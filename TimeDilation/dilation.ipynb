{
 "cells": [
  {
   "cell_type": "code",
   "execution_count": 2,
   "id": "e7bcceaf",
   "metadata": {},
   "outputs": [],
   "source": [
    "#Here we test the time dilation due to velocity and gravitation"
   ]
  },
  {
   "cell_type": "code",
   "execution_count": 3,
   "id": "3f638ea5",
   "metadata": {},
   "outputs": [],
   "source": [
    "import numpy as np\n",
    "from numpy import sqrt, pi\n",
    "import matplotlib.pyplot as plt"
   ]
  },
  {
   "cell_type": "code",
   "execution_count": 18,
   "id": "67b6af32",
   "metadata": {},
   "outputs": [],
   "source": [
    "c = 2.998E8 #speed of light (m/s)\n",
    "G = 6.674E-11 #gravitational constant (m^3/kg/s^2)\n",
    "M = 5.97E24 #Earth's mass (kg)\n",
    "r1 = 6.371E6 #radius of Earth (m)\n",
    "r2 = rEarth + 2.02E7 #orbit radius of GPS (m)\n",
    "spd = 8.64E4 #seconds per day (s)\n",
    "\n",
    "v1 =  2*pi*r1/spd #tangental speed of clock at equator (m/s)\n",
    "v2 = 2*pi*r2/(spd/2) #GPS satellites orbit twice per day (m/s)"
   ]
  },
  {
   "cell_type": "code",
   "execution_count": 28,
   "id": "c91217e1",
   "metadata": {},
   "outputs": [],
   "source": [
    "#now we can calculate the combined time dilation\n",
    "dt = sqrt((c**2-v2**2-2*G*M/r2)/(c**2-v1**2-2*G*M/r1))\n",
    "\n",
    "#the dilation per day is \n",
    "dpd = spd*(dt-1)"
   ]
  },
  {
   "cell_type": "code",
   "execution_count": 29,
   "id": "c0b03e81",
   "metadata": {},
   "outputs": [
    {
     "data": {
      "text/plain": [
       "3.862797441911425e-05"
      ]
     },
     "execution_count": 29,
     "metadata": {},
     "output_type": "execute_result"
    }
   ],
   "source": [
    "#this is consistent with approximate value 38 microseconds\n",
    "dpd"
   ]
  },
  {
   "cell_type": "code",
   "execution_count": 35,
   "id": "bf5897b0",
   "metadata": {},
   "outputs": [],
   "source": [
    "#now that we know it works, we can have some fun\n",
    "#let's see how this changes assuming changes in the satellite's altitude\n",
    "def dailydilation(r2):\n",
    "    v2 = 2*pi*r2/(spd/2)\n",
    "    return spd*(sqrt((c**2-v2**2-2*G*M/r2)/(c**2-v1**2-2*G*M/r1)) - 1)"
   ]
  },
  {
   "cell_type": "code",
   "execution_count": 51,
   "id": "ac7e6b51",
   "metadata": {},
   "outputs": [],
   "source": [
    "#range of altitudes\n",
    "alt = np.linspace(r1, r2*3, 100)\n",
    "#array of daily total time dilations\n",
    "dts = [dailydilation(a)*1E6 for a in alt]"
   ]
  },
  {
   "cell_type": "code",
   "execution_count": 63,
   "id": "4b971c4f",
   "metadata": {},
   "outputs": [
    {
     "data": {
      "text/plain": [
       "(6792500.0, 6371000.0)"
      ]
     },
     "execution_count": 63,
     "metadata": {},
     "output_type": "execute_result"
    }
   ],
   "source": [
    "rISS = r1 + 4.215E5 \n",
    "rISS, r1"
   ]
  },
  {
   "cell_type": "code",
   "execution_count": 66,
   "id": "934e407d",
   "metadata": {},
   "outputs": [
    {
     "data": {
      "image/png": "[encoded data removed]",
      "text/plain": [
       "<Figure size 432x288 with 1 Axes>"
      ]
     },
     "metadata": {
      "needs_background": "light"
     },
     "output_type": "display_data"
    }
   ],
   "source": [
    "#Plotting\n",
    "plt.plot(alt, dts)\n",
    "plt.vlines(r1, min(dts), max(dts), ls='dotted', label='Earth surface')\n",
    "plt.vlines(rISS, min(dts), max(dts), ls='-', label='ISS orbit')\n",
    "plt.plot(r2,dailydilation(r2)*1E6,'ro', label='GPS sat')\n",
    "plt.xlabel('distance from satellite to center of Earth (m)')\n",
    "plt.ylabel('total time dilation per day ($\\mu$s)')\n",
    "plt.legend()\n",
    "plt.show()"
   ]
  },
  {
   "cell_type": "code",
   "execution_count": null,
   "id": "bb98e53d",
   "metadata": {},
   "outputs": [],
   "source": []
  }
 ],
 "metadata": {
  "kernelspec": {
   "display_name": "Python 3 (ipykernel)",
   "language": "python",
   "name": "python3"
  },
  "language_info": {
   "codemirror_mode": {
    "name": "ipython",
    "version": 3
   },
   "file_extension": ".py",
   "mimetype": "text/x-python",
   "name": "python",
   "nbconvert_exporter": "python",
   "pygments_lexer": "ipython3",
   "version": "3.7.12"
  }
 },
 "nbformat": 4,
 "nbformat_minor": 5
}
